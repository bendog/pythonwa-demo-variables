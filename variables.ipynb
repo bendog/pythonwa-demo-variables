{
 "cells": [
  {
   "cell_type": "markdown",
   "id": "54fd3700-eafc-41a1-9831-1172c54046d9",
   "metadata": {
    "tags": []
   },
   "source": [
    "# INT"
   ]
  },
  {
   "cell_type": "code",
   "execution_count": 1,
   "id": "d1665d82-4343-43cb-b5e2-7d2ab832fd6e",
   "metadata": {},
   "outputs": [],
   "source": [
    "a = 10\n",
    "b = a\n",
    "c = b"
   ]
  },
  {
   "cell_type": "code",
   "execution_count": 2,
   "id": "7200f00c-29b3-40f8-a84d-0bafbd7b3d83",
   "metadata": {
    "tags": []
   },
   "outputs": [],
   "source": [
    "c += 1"
   ]
  },
  {
   "cell_type": "code",
   "execution_count": 3,
   "id": "35ea6a9a-2635-4e12-984a-a4067c9e6a1a",
   "metadata": {
    "tags": []
   },
   "outputs": [
    {
     "name": "stdout",
     "output_type": "stream",
     "text": [
      "10\n",
      "10\n",
      "11\n"
     ]
    }
   ],
   "source": [
    "for x in (a, b, c):\n",
    "    print(x)"
   ]
  },
  {
   "cell_type": "code",
   "execution_count": 4,
   "id": "bf4b8ac3-75a4-4e5d-b0c5-d0ad93d5c273",
   "metadata": {
    "tags": []
   },
   "outputs": [
    {
     "data": {
      "text/plain": [
       "int"
      ]
     },
     "execution_count": 4,
     "metadata": {},
     "output_type": "execute_result"
    }
   ],
   "source": [
    "type(a)"
   ]
  },
  {
   "cell_type": "markdown",
   "id": "b67fba2e-21ba-4b8d-a648-6858d88db8eb",
   "metadata": {},
   "source": [
    "# STR"
   ]
  },
  {
   "cell_type": "code",
   "execution_count": 5,
   "id": "ec6cd34e-bca6-496a-9b23-5989ee41e7e7",
   "metadata": {
    "tags": []
   },
   "outputs": [],
   "source": [
    "a = \"10\""
   ]
  },
  {
   "cell_type": "code",
   "execution_count": 6,
   "id": "20783592-1f3c-43df-809d-552f97ad03f7",
   "metadata": {
    "tags": []
   },
   "outputs": [],
   "source": [
    "b = a"
   ]
  },
  {
   "cell_type": "code",
   "execution_count": 7,
   "id": "6333bc81-a11a-40b8-b971-592f09233ea2",
   "metadata": {
    "tags": []
   },
   "outputs": [],
   "source": [
    "c = b"
   ]
  },
  {
   "cell_type": "code",
   "execution_count": 8,
   "id": "8153c92a-b3e2-4edd-960d-c864da4227fa",
   "metadata": {
    "tags": []
   },
   "outputs": [],
   "source": [
    "c += \"1\""
   ]
  },
  {
   "cell_type": "code",
   "execution_count": 9,
   "id": "f0e3c44a-ca85-46fe-86ae-fd9dcff74979",
   "metadata": {
    "tags": []
   },
   "outputs": [
    {
     "name": "stdout",
     "output_type": "stream",
     "text": [
      "10\n",
      "10\n",
      "101\n"
     ]
    }
   ],
   "source": [
    "for x in (a, b, c):\n",
    "    print(x)"
   ]
  },
  {
   "cell_type": "markdown",
   "id": "fa2b81bc-011c-48b5-9996-09f7cd185047",
   "metadata": {
    "tags": []
   },
   "source": [
    "# LIST"
   ]
  },
  {
   "cell_type": "code",
   "execution_count": 10,
   "id": "165bea81-4aab-4e54-9122-a9873660ffb3",
   "metadata": {
    "tags": []
   },
   "outputs": [],
   "source": [
    "a = [1, 2, 3]"
   ]
  },
  {
   "cell_type": "code",
   "execution_count": 11,
   "id": "377280df-6e57-4245-a3aa-1bfe35d0e018",
   "metadata": {
    "tags": []
   },
   "outputs": [],
   "source": [
    "b = a"
   ]
  },
  {
   "cell_type": "code",
   "execution_count": 12,
   "id": "54b6634e-7032-4b9c-ac68-24faddad8fc0",
   "metadata": {
    "tags": []
   },
   "outputs": [],
   "source": [
    "c = b"
   ]
  },
  {
   "cell_type": "code",
   "execution_count": 13,
   "id": "b018285b-762e-4dd3-8ff1-9a696c5e9ae2",
   "metadata": {
    "tags": []
   },
   "outputs": [],
   "source": [
    "c += [1,]"
   ]
  },
  {
   "cell_type": "code",
   "execution_count": 14,
   "id": "e1f6b8db-c499-4980-b1d4-f9731b405a71",
   "metadata": {
    "tags": []
   },
   "outputs": [
    {
     "name": "stdout",
     "output_type": "stream",
     "text": [
      "[1, 2, 3, 1]\n",
      "[1, 2, 3, 1]\n",
      "[1, 2, 3, 1]\n"
     ]
    }
   ],
   "source": [
    "for x in (a, b, c):\n",
    "    print(x)"
   ]
  },
  {
   "cell_type": "markdown",
   "id": "da1b7942-065f-4470-b956-eae1f8ead5f5",
   "metadata": {
    "tags": []
   },
   "source": [
    "# DICT"
   ]
  },
  {
   "cell_type": "code",
   "execution_count": 15,
   "id": "a83f5972-26d3-4717-b5aa-647e348202ff",
   "metadata": {
    "tags": []
   },
   "outputs": [],
   "source": [
    "a = {\"a\": 1, \"b\": 2, \"c\": 3}"
   ]
  },
  {
   "cell_type": "code",
   "execution_count": 16,
   "id": "1cf78521-6a90-44c5-b10d-4a2b607f033a",
   "metadata": {
    "tags": []
   },
   "outputs": [],
   "source": [
    "c = b = a"
   ]
  },
  {
   "cell_type": "code",
   "execution_count": 17,
   "id": "12c6b3ad-a6ba-45d9-96ed-b96397b096b6",
   "metadata": {
    "tags": []
   },
   "outputs": [],
   "source": [
    "c = c.update({\"d\": 4})"
   ]
  },
  {
   "cell_type": "code",
   "execution_count": 18,
   "id": "5764cf9d-7fc4-4485-be01-49cbb8bc4ef8",
   "metadata": {
    "tags": []
   },
   "outputs": [
    {
     "name": "stdout",
     "output_type": "stream",
     "text": [
      "{'a': 1, 'b': 2, 'c': 3, 'd': 4}\n",
      "{'a': 1, 'b': 2, 'c': 3, 'd': 4}\n",
      "None\n"
     ]
    }
   ],
   "source": [
    "for x in (a, b, c):\n",
    "    print(x)"
   ]
  },
  {
   "cell_type": "code",
   "execution_count": 19,
   "id": "6858070d-ec1d-480f-be71-f8f1fdaaeac9",
   "metadata": {
    "tags": []
   },
   "outputs": [],
   "source": [
    "c = dict(**b, e=5)"
   ]
  },
  {
   "cell_type": "code",
   "execution_count": 20,
   "id": "a89cde06-a262-486f-91d0-cd3f8fab2d56",
   "metadata": {
    "tags": []
   },
   "outputs": [
    {
     "name": "stdout",
     "output_type": "stream",
     "text": [
      "{'a': 1, 'b': 2, 'c': 3, 'd': 4}\n",
      "{'a': 1, 'b': 2, 'c': 3, 'd': 4}\n",
      "{'a': 1, 'b': 2, 'c': 3, 'd': 4, 'e': 5}\n"
     ]
    }
   ],
   "source": [
    "for x in (a, b, c):\n",
    "    print(x)"
   ]
  },
  {
   "cell_type": "code",
   "execution_count": 21,
   "id": "f9e6b354-01b2-439f-9ff8-a15b8132cee0",
   "metadata": {
    "tags": []
   },
   "outputs": [],
   "source": [
    "c = {**a, \"f\": 6}"
   ]
  },
  {
   "cell_type": "code",
   "execution_count": 22,
   "id": "b014aa13-ca78-4133-b893-22cd69e3c0ab",
   "metadata": {
    "tags": []
   },
   "outputs": [
    {
     "name": "stdout",
     "output_type": "stream",
     "text": [
      "{'a': 1, 'b': 2, 'c': 3, 'd': 4}\n",
      "{'a': 1, 'b': 2, 'c': 3, 'd': 4}\n",
      "{'a': 1, 'b': 2, 'c': 3, 'd': 4, 'f': 6}\n"
     ]
    }
   ],
   "source": [
    "for x in (a, b, c):\n",
    "    print(x)"
   ]
  },
  {
   "cell_type": "markdown",
   "id": "ed71f6c1-1bfe-417b-a161-15a57be0a352",
   "metadata": {},
   "source": [
    "https://pythontutor.com/visualize.html#code=a%20%3D%20%7B%22a%22%3A%201,%20%22b%22%3A%202,%20%22c%22%3A%203%7D%0Ac%20%3D%20b%20%3D%20a%0Ac%20%3D%20c.update%28%7B%22d%22%3A%204%7D%29%0A%0Afor%20x%20in%20%28a,%20b,%20c%29%3A%0A%20%20%20%20print%28x%29%0A%20%20%20%20%0Ac%20%3D%20dict%28**b,%20e%3D5%29%0A%0Afor%20x%20in%20%28a,%20b,%20c%29%3A%0A%20%20%20%20print%28x%29%0A%20%20%20%20%0Ac%20%3D%20%7B**a,%20%22f%22%3A%206%7D%0A%0Afor%20x%20in%20%28a,%20b,%20c%29%3A%0A%20%20%20%20print%28x%29&cumulative=false&curInstr=0&heapPrimitives=nevernest&mode=display&origin=opt-frontend.js&py=3&rawInputLstJSON=%5B%5D&textReferences=false"
   ]
  },
  {
   "cell_type": "code",
   "execution_count": 23,
   "id": "6c4a9ffa-6cb5-48cb-a025-f3ae20b4af07",
   "metadata": {
    "tags": []
   },
   "outputs": [
    {
     "data": {
      "text/plain": [
       "(4420731008, 4420731008, 4421841088)"
      ]
     },
     "execution_count": 23,
     "metadata": {},
     "output_type": "execute_result"
    }
   ],
   "source": [
    "id(a), id(b), id(c)"
   ]
  },
  {
   "cell_type": "code",
   "execution_count": 24,
   "id": "0f9743f2-8421-47e0-ac07-aa7bea9a0e70",
   "metadata": {
    "tags": []
   },
   "outputs": [
    {
     "data": {
      "text/plain": [
       "True"
      ]
     },
     "execution_count": 24,
     "metadata": {},
     "output_type": "execute_result"
    }
   ],
   "source": [
    "a is b"
   ]
  },
  {
   "cell_type": "code",
   "execution_count": 25,
   "id": "de421e2e-51bb-4800-bd88-b7cb20b8115c",
   "metadata": {
    "tags": []
   },
   "outputs": [
    {
     "data": {
      "text/plain": [
       "False"
      ]
     },
     "execution_count": 25,
     "metadata": {},
     "output_type": "execute_result"
    }
   ],
   "source": [
    "a is c"
   ]
  },
  {
   "cell_type": "markdown",
   "id": "9c9bb4ce-583d-4b83-98ee-a7bfacb5ff50",
   "metadata": {
    "tags": []
   },
   "source": [
    "```python\n",
    "Python 3.11.3 (main, Apr  7 2023, 20:13:31) [Clang 14.0.0 (clang-1400.0.29.202)] on darwin\n",
    "Type \"help\", \"copyright\", \"credits\" or \"license\" for more information.\n",
    ">>> a = b = c = 1\n",
    ">>> globals()\n",
    "{'__name__': '__main__', '__doc__': None, '__package__': None, '__loader__': <class '_frozen_importlib.BuiltinImporter'>, '__spec__': None, '__annotations__': {}, '__builtins__': <module 'builtins' (built-in)>, 'a': 1, 'b': 1, 'c': 1}\n",
    ">>> globals()['a'] = 2\n",
    ">>> print(a, b, c)\n",
    "2 1 1\n",
    ">>> \n",
    "```\n",
    "\n",
    "Dictionaries\n",
    "```python\n",
    ">>> a = {\"a\": 1, \"b\": 2, \"c\": 3}\n",
    ">>> c = b = a\n",
    ">>> c = c.update({\"d\": 4})\n",
    ">>> globals()\n",
    "{'__name__': '__main__', '__doc__': None, '__package__': None, '__loader__': <class '_frozen_importlib.BuiltinImporter'>, '__spec__': None, '__annotations__': {}, '__builtins__': <module 'builtins' (built-in)>, 'a': {'a': 1, 'b': 2, 'c': 3, 'd': 4}, 'b': {'a': 1, 'b': 2, 'c': 3, 'd': 4}, 'c': None}\n",
    ">>> c = {**a, \"f\": 6}\n",
    ">>> globals()\n",
    "{'__name__': '__main__', '__doc__': None, '__package__': None, '__loader__': <class '_frozen_importlib.BuiltinImporter'>, '__spec__': None, '__annotations__': {}, '__builtins__': <module 'builtins' (built-in)>, 'a': {'a': 1, 'b': 2, 'c': 3, 'd': 4}, 'b': {'a': 1, 'b': 2, 'c': 3, 'd': 4}, 'c': {'a': 1, 'b': 2, 'c': 3, 'd': 4, 'f': 6}}\n",
    ">>> for k,v in {**globals()}.items():\n",
    "...     print(k, id(v))\n",
    "... \n",
    "__name__ 4337930224\n",
    "__doc__ 4346860680\n",
    "__package__ 4346860680\n",
    "__loader__ 5133859920\n",
    "__spec__ 4346860680\n",
    "__annotations__ 4337930304\n",
    "__builtins__ 4337486400\n",
    "a 4338031808\n",
    "b 4338031808\n",
    "c 4338032448\n",
    ">>> \n",
    "```"
   ]
  },
  {
   "cell_type": "markdown",
   "id": "c2d36af9-ff69-4868-a7f6-8a57a82076e7",
   "metadata": {},
   "source": [
    "# scope"
   ]
  },
  {
   "cell_type": "code",
   "execution_count": 26,
   "id": "97756b94-3609-4c9b-a6f0-03cced0040b6",
   "metadata": {
    "tags": []
   },
   "outputs": [],
   "source": [
    "a = 1"
   ]
  },
  {
   "cell_type": "code",
   "execution_count": 27,
   "id": "9183c3e1-552c-4d72-a5a6-0f001d915450",
   "metadata": {
    "tags": []
   },
   "outputs": [],
   "source": [
    "def myfunc():\n",
    "    return a + 1"
   ]
  },
  {
   "cell_type": "code",
   "execution_count": 28,
   "id": "f97a2cff-2f9b-472a-9fcc-7e7b1eae983e",
   "metadata": {
    "tags": []
   },
   "outputs": [],
   "source": [
    "a = myfunc()"
   ]
  },
  {
   "cell_type": "code",
   "execution_count": 29,
   "id": "8dc7d7b6-913f-4e58-acc5-dbff8af241ae",
   "metadata": {
    "tags": []
   },
   "outputs": [
    {
     "name": "stdout",
     "output_type": "stream",
     "text": [
      "2\n"
     ]
    }
   ],
   "source": [
    "print(a)"
   ]
  },
  {
   "cell_type": "markdown",
   "id": "0dc9651a-ec8d-4c90-ba3e-c9edc1964ba0",
   "metadata": {
    "tags": []
   },
   "source": [
    "## global scope"
   ]
  },
  {
   "cell_type": "code",
   "execution_count": 30,
   "id": "3e8256c6-1d6a-425a-b624-9b57cf79d39f",
   "metadata": {
    "tags": []
   },
   "outputs": [],
   "source": [
    "def globalscope():\n",
    "    global a\n",
    "    a += 10"
   ]
  },
  {
   "cell_type": "code",
   "execution_count": 31,
   "id": "4a2bd19e-7309-4ee6-ac94-5da2f7dce3dc",
   "metadata": {
    "tags": []
   },
   "outputs": [
    {
     "name": "stdout",
     "output_type": "stream",
     "text": [
      "2\n"
     ]
    }
   ],
   "source": [
    "print(a)"
   ]
  },
  {
   "cell_type": "code",
   "execution_count": 32,
   "id": "ea923a7f-8426-4512-8e06-2c2557b40fa8",
   "metadata": {
    "tags": []
   },
   "outputs": [],
   "source": [
    "globalscope()"
   ]
  },
  {
   "cell_type": "code",
   "execution_count": 33,
   "id": "3a47ba38-87df-46dd-92bb-4b0fe6bcc334",
   "metadata": {
    "tags": []
   },
   "outputs": [
    {
     "name": "stdout",
     "output_type": "stream",
     "text": [
      "12\n"
     ]
    }
   ],
   "source": [
    "print(a)"
   ]
  },
  {
   "cell_type": "markdown",
   "id": "8349ef45-c46d-4834-a312-2769286e0fe5",
   "metadata": {
    "tags": []
   },
   "source": [
    "## internal"
   ]
  },
  {
   "cell_type": "code",
   "execution_count": 34,
   "id": "733cad9c-2141-4fbb-88f7-01ad265264b1",
   "metadata": {
    "tags": []
   },
   "outputs": [],
   "source": [
    "def internal():\n",
    "    x = 1\n",
    "    return x"
   ]
  },
  {
   "cell_type": "code",
   "execution_count": 35,
   "id": "ac668455-14ba-4430-a8dd-393409666c18",
   "metadata": {
    "tags": []
   },
   "outputs": [
    {
     "data": {
      "text/plain": [
       "1"
      ]
     },
     "execution_count": 35,
     "metadata": {},
     "output_type": "execute_result"
    }
   ],
   "source": [
    "internal()"
   ]
  },
  {
   "cell_type": "code",
   "execution_count": 36,
   "id": "e284ff4b-f9d9-4ca5-ad3b-ae51cc10f20e",
   "metadata": {
    "tags": []
   },
   "outputs": [
    {
     "name": "stdout",
     "output_type": "stream",
     "text": [
      "{'a': 1, 'b': 2, 'c': 3, 'd': 4, 'f': 6}\n"
     ]
    }
   ],
   "source": [
    "print(x)"
   ]
  },
  {
   "cell_type": "code",
   "execution_count": 37,
   "id": "1b5be844-bcea-4c25-875a-23890aec90ca",
   "metadata": {
    "tags": []
   },
   "outputs": [
    {
     "name": "stdout",
     "output_type": "stream",
     "text": [
      "0\n",
      "1\n",
      "2\n",
      "3\n",
      "4\n",
      "5\n",
      "6\n",
      "7\n",
      "8\n",
      "9\n"
     ]
    }
   ],
   "source": [
    "for x in range(10):\n",
    "    print(x)"
   ]
  },
  {
   "cell_type": "code",
   "execution_count": 38,
   "id": "801583a5-32de-4850-9540-474ee71c6a8e",
   "metadata": {
    "tags": []
   },
   "outputs": [
    {
     "name": "stdout",
     "output_type": "stream",
     "text": [
      "9\n"
     ]
    }
   ],
   "source": [
    "print(x)"
   ]
  },
  {
   "cell_type": "code",
   "execution_count": 39,
   "id": "ea7c9b44-bfba-4f14-843a-b6df7b4c891f",
   "metadata": {
    "tags": []
   },
   "outputs": [
    {
     "name": "stdout",
     "output_type": "stream",
     "text": [
      "1\n",
      "2\n",
      "3\n"
     ]
    }
   ],
   "source": [
    "for x in (1, 2, 3):\n",
    "    print(x)"
   ]
  },
  {
   "cell_type": "code",
   "execution_count": 40,
   "id": "04a59869-b38f-4ef9-b739-97821987e23d",
   "metadata": {
    "tags": []
   },
   "outputs": [
    {
     "name": "stdout",
     "output_type": "stream",
     "text": [
      "3\n"
     ]
    }
   ],
   "source": [
    "print(x)"
   ]
  },
  {
   "cell_type": "code",
   "execution_count": null,
   "id": "9557496c-be68-48ca-821a-0016b6b0c152",
   "metadata": {},
   "outputs": [],
   "source": []
  }
 ],
 "metadata": {
  "kernelspec": {
   "display_name": "Python 3 (ipykernel)",
   "language": "python",
   "name": "python3"
  },
  "language_info": {
   "codemirror_mode": {
    "name": "ipython",
    "version": 3
   },
   "file_extension": ".py",
   "mimetype": "text/x-python",
   "name": "python",
   "nbconvert_exporter": "python",
   "pygments_lexer": "ipython3",
   "version": "3.11.3"
  }
 },
 "nbformat": 4,
 "nbformat_minor": 5
}
